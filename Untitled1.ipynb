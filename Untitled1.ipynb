{
 "cells": [
  {
   "cell_type": "code",
   "execution_count": 2,
   "id": "8efd4a38-1920-4423-b05d-364ecf574cca",
   "metadata": {},
   "outputs": [],
   "source": [
    "import pandas as pd\n",
    "tweets_one = pd.read_csv(\"TweetsOne.csv\")\n",
    "tweets_two = pd.read_csv(\"TweetsTwo.csv\")\n",
    "tweets_three = pd.read_csv(\"TweetsThree.csv\")\n",
    "tweets_four = pd.read_csv(\"TweetsFour.csv\")\n",
    "tweets_five = pd.read_csv(\"TweetsFive.csv\")\n",
    "tweets_six = pd.read_csv(\"TweetsSix.csv\")\n",
    "tweets_seven = pd.read_csv(\"TweetsSeven.csv\")\n",
    "tweets_eight = pd.read_csv(\"TweetsEight.csv\")\n",
    "tweets_nine = pd.read_csv(\"TweetsNine.csv\")\n",
    "tweets_ten = pd.read_csv(\"TweetsTen.csv\")\n",
    "tweets_eleven = pd.read_csv(\"TweetsEleven.csv\")\n",
    "tweets_twelve = pd.read_csv(\"TweetsTwelve.csv\")\n",
    "tweets_thirteen = pd.read_csv(\"TweetsThirteen.csv\")\n",
    "tweets_fourteen = pd.read_csv(\"TweetsFourteen.csv\")\n",
    "tweets_fifteen = pd.read_csv(\"TweetsFifteen.csv\")"
   ]
  },
  {
   "cell_type": "code",
   "execution_count": 3,
   "id": "971607f5-27b4-49a2-b038-160ec2fedd83",
   "metadata": {},
   "outputs": [],
   "source": [
    "tweets = [tweets_one, tweets_two, tweets_three, tweets_four, tweets_five, tweets_six, tweets_seven, tweets_eight, tweets_nine, tweets_ten, tweets_eleven, tweets_twelve, tweets_thirteen, tweets_fourteen, tweets_fifteen]"
   ]
  },
  {
   "cell_type": "code",
   "execution_count": 4,
   "id": "ee567e97-3cac-4b12-950d-39668328fcc2",
   "metadata": {},
   "outputs": [],
   "source": [
    "all_tweets = pd.concat(tweets)"
   ]
  },
  {
   "cell_type": "code",
   "execution_count": 5,
   "id": "6f3ab97f-b062-4b51-b3dd-f589e62a4fb9",
   "metadata": {},
   "outputs": [],
   "source": [
    "all_tweets_en = all_tweets.loc[all_tweets['language']=='en']"
   ]
  },
  {
   "cell_type": "code",
   "execution_count": 6,
   "id": "d9dfdf4f-85af-48eb-8afe-5487f6d21587",
   "metadata": {},
   "outputs": [],
   "source": [
    "def success_category(row):\n",
    "    if row.retweet_count < 500:\n",
    "        return \"Low\"\n",
    "    elif row.retweet_count > 500:\n",
    "        return \"High\""
   ]
  },
  {
   "cell_type": "code",
   "execution_count": 7,
   "id": "a20c0f8d-fdda-4bb6-8f96-16a7033cd80d",
   "metadata": {},
   "outputs": [],
   "source": [
    "categories = all_tweets_en.apply(lambda row: success_category(row), axis=1)\n",
    "\n",
    "all_tweets_en_categories = pd.DataFrame()\n",
    "all_tweets_en_categories[\"text\"] = all_tweets_en[\"tweet_text\"]\n",
    "all_tweets_en_categories[\"retweet_count\"] = all_tweets_en[\"retweet_count\"]\n",
    "all_tweets_en_categories[\"success_category\"] = categories"
   ]
  },
  {
   "cell_type": "code",
   "execution_count": 8,
   "id": "2a8b9d18-3a8f-4802-9c7e-f9592c7c614b",
   "metadata": {},
   "outputs": [],
   "source": [
    "high_success = all_tweets_en_categories.loc[all_tweets_en_categories['success_category']=='High']"
   ]
  },
  {
   "cell_type": "code",
   "execution_count": 9,
   "id": "49248580-c33b-4b71-bf3c-e0e099268140",
   "metadata": {},
   "outputs": [],
   "source": [
    "low_success = all_tweets_en_categories.loc[all_tweets_en_categories['success_category']=='Low']"
   ]
  },
  {
   "cell_type": "code",
   "execution_count": 12,
   "id": "7786041a-ad7d-48fe-a09b-ddffdad3a732",
   "metadata": {},
   "outputs": [],
   "source": [
    "high_success_txt = high_success.drop(high_success.columns[[1,2]], axis=1) "
   ]
  },
  {
   "cell_type": "code",
   "execution_count": 13,
   "id": "ae78dac9-6891-46a3-928b-98094e6b7c7f",
   "metadata": {},
   "outputs": [
    {
     "data": {
      "text/html": [
       "<div>\n",
       "<style scoped>\n",
       "    .dataframe tbody tr th:only-of-type {\n",
       "        vertical-align: middle;\n",
       "    }\n",
       "\n",
       "    .dataframe tbody tr th {\n",
       "        vertical-align: top;\n",
       "    }\n",
       "\n",
       "    .dataframe thead th {\n",
       "        text-align: right;\n",
       "    }\n",
       "</style>\n",
       "<table border=\"1\" class=\"dataframe\">\n",
       "  <thead>\n",
       "    <tr style=\"text-align: right;\">\n",
       "      <th></th>\n",
       "      <th>text</th>\n",
       "    </tr>\n",
       "  </thead>\n",
       "  <tbody>\n",
       "    <tr>\n",
       "      <th>0</th>\n",
       "      <td>RT @louietraub: Pfizer tried hiding nine pages...</td>\n",
       "    </tr>\n",
       "    <tr>\n",
       "      <th>7</th>\n",
       "      <td>RT @louietraub: Pfizer tried hiding nine pages...</td>\n",
       "    </tr>\n",
       "    <tr>\n",
       "      <th>9</th>\n",
       "      <td>RT @louietraub: Pfizer tried hiding nine pages...</td>\n",
       "    </tr>\n",
       "    <tr>\n",
       "      <th>12</th>\n",
       "      <td>RT @louietraub: Pfizer tried hiding nine pages...</td>\n",
       "    </tr>\n",
       "    <tr>\n",
       "      <th>16</th>\n",
       "      <td>RT @louietraub: Pfizer tried hiding nine pages...</td>\n",
       "    </tr>\n",
       "  </tbody>\n",
       "</table>\n",
       "</div>"
      ],
      "text/plain": [
       "                                                 text\n",
       "0   RT @louietraub: Pfizer tried hiding nine pages...\n",
       "7   RT @louietraub: Pfizer tried hiding nine pages...\n",
       "9   RT @louietraub: Pfizer tried hiding nine pages...\n",
       "12  RT @louietraub: Pfizer tried hiding nine pages...\n",
       "16  RT @louietraub: Pfizer tried hiding nine pages..."
      ]
     },
     "execution_count": 13,
     "metadata": {},
     "output_type": "execute_result"
    }
   ],
   "source": [
    "high_success_txt.head()"
   ]
  },
  {
   "cell_type": "code",
   "execution_count": 14,
   "id": "46446789-0281-4fcb-9b79-305ed1e1e167",
   "metadata": {},
   "outputs": [],
   "source": [
    "high_success_txt.to_csv(r'high_success.txt', header=None, index=None, sep='\\t', mode='a')"
   ]
  },
  {
   "cell_type": "code",
   "execution_count": 15,
   "id": "f9c9fe37-680d-4d1e-9cbc-f8bb9739c426",
   "metadata": {},
   "outputs": [],
   "source": [
    "low_success_txt = high_success.drop(high_success.columns[[1,2]], axis=1) "
   ]
  },
  {
   "cell_type": "code",
   "execution_count": 16,
   "id": "a0ff2a06-44ca-4dd3-a977-fd38ce4c7a2b",
   "metadata": {},
   "outputs": [],
   "source": [
    "low_success_txt.to_csv(r'low_success.txt', header=None, index=None, sep='\\t', mode='a')"
   ]
  },
  {
   "cell_type": "code",
   "execution_count": null,
   "id": "75dd07ca-63a6-49fb-80f5-1ebc881116de",
   "metadata": {},
   "outputs": [],
   "source": []
  }
 ],
 "metadata": {
  "kernelspec": {
   "display_name": "mlenv",
   "language": "python",
   "name": "mlenv"
  },
  "language_info": {
   "codemirror_mode": {
    "name": "ipython",
    "version": 3
   },
   "file_extension": ".py",
   "mimetype": "text/x-python",
   "name": "python",
   "nbconvert_exporter": "python",
   "pygments_lexer": "ipython3",
   "version": "3.7.11"
  }
 },
 "nbformat": 4,
 "nbformat_minor": 5
}
