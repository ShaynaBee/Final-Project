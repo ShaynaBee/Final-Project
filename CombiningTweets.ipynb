{
 "cells": [
  {
   "cell_type": "code",
   "execution_count": 70,
   "id": "8efd4a38-1920-4423-b05d-364ecf574cca",
   "metadata": {},
   "outputs": [],
   "source": [
    "import pandas as pd\n",
    "tweets_one = pd.read_csv(\"TweetsOne.csv\")\n",
    "tweets_two = pd.read_csv(\"TweetsTwo.csv\")\n",
    "tweets_three = pd.read_csv(\"TweetsThree.csv\")\n",
    "tweets_four = pd.read_csv(\"TweetsFour.csv\")\n"
   ]
  },
  {
   "cell_type": "code",
   "execution_count": 71,
   "id": "971607f5-27b4-49a2-b038-160ec2fedd83",
   "metadata": {},
   "outputs": [],
   "source": [
    "tweets = [tweets_one, tweets_two, tweets_three, tweets_four]"
   ]
  },
  {
   "cell_type": "code",
   "execution_count": 72,
   "id": "ee567e97-3cac-4b12-950d-39668328fcc2",
   "metadata": {},
   "outputs": [],
   "source": [
    "all_tweets = pd.concat(tweets)"
   ]
  },
  {
   "cell_type": "code",
   "execution_count": 73,
   "id": "6f3ab97f-b062-4b51-b3dd-f589e62a4fb9",
   "metadata": {},
   "outputs": [],
   "source": [
    "all_tweets_en = all_tweets.loc[all_tweets['language']=='en']"
   ]
  },
  {
   "cell_type": "code",
   "execution_count": 74,
   "id": "d9dfdf4f-85af-48eb-8afe-5487f6d21587",
   "metadata": {},
   "outputs": [],
   "source": [
    "def success_category(row):\n",
    "    if row.retweet_count < 500:\n",
    "        return \"Low\"\n",
    "    elif row.retweet_count > 500:\n",
    "        return \"High\"\n",
    "def strip_usernames(row):\n",
    "    try:\n",
    "        return row.tweet_text.split(':', 1)[1]\n",
    "    except:\n",
    "        return (row.tweet_text)\n",
    "\n"
   ]
  },
  {
   "cell_type": "code",
   "execution_count": 75,
   "id": "a20c0f8d-fdda-4bb6-8f96-16a7033cd80d",
   "metadata": {},
   "outputs": [],
   "source": [
    "categories = all_tweets_en.apply(lambda row: success_category(row), axis=1)\n",
    "\n",
    "new_text = all_tweets_en.apply(lambda row: strip_usernames(row), axis=1)\n",
    "all_tweets_en_categories = pd.DataFrame()\n",
    "all_tweets_en_categories[\"text\"] = new_text\n",
    "all_tweets_en_categories[\"retweet_count\"] = all_tweets_en[\"retweet_count\"]\n",
    "all_tweets_en_categories[\"success_category\"] = categories"
   ]
  },
  {
   "cell_type": "code",
   "execution_count": 76,
   "id": "2a8b9d18-3a8f-4802-9c7e-f9592c7c614b",
   "metadata": {},
   "outputs": [],
   "source": [
    "high_success = all_tweets_en_categories.loc[all_tweets_en_categories['success_category']=='High']"
   ]
  },
  {
   "cell_type": "code",
   "execution_count": 77,
   "id": "49248580-c33b-4b71-bf3c-e0e099268140",
   "metadata": {},
   "outputs": [],
   "source": [
    "low_success = all_tweets_en_categories.loc[all_tweets_en_categories['success_category']=='Low']"
   ]
  },
  {
   "cell_type": "code",
   "execution_count": 78,
   "id": "7786041a-ad7d-48fe-a09b-ddffdad3a732",
   "metadata": {},
   "outputs": [],
   "source": [
    "high_success_txt = high_success.drop(high_success.columns[[1,2]], axis=1) "
   ]
  },
  {
   "cell_type": "code",
   "execution_count": 79,
   "id": "ae78dac9-6891-46a3-928b-98094e6b7c7f",
   "metadata": {},
   "outputs": [
    {
     "data": {
      "text/html": [
       "<div>\n",
       "<style scoped>\n",
       "    .dataframe tbody tr th:only-of-type {\n",
       "        vertical-align: middle;\n",
       "    }\n",
       "\n",
       "    .dataframe tbody tr th {\n",
       "        vertical-align: top;\n",
       "    }\n",
       "\n",
       "    .dataframe thead th {\n",
       "        text-align: right;\n",
       "    }\n",
       "</style>\n",
       "<table border=\"1\" class=\"dataframe\">\n",
       "  <thead>\n",
       "    <tr style=\"text-align: right;\">\n",
       "      <th></th>\n",
       "      <th>text</th>\n",
       "    </tr>\n",
       "  </thead>\n",
       "  <tbody>\n",
       "    <tr>\n",
       "      <th>18</th>\n",
       "      <td>this post is so fucking funny https://t.co/Rm...</td>\n",
       "    </tr>\n",
       "    <tr>\n",
       "      <th>20</th>\n",
       "      <td>I’m just finding this so funny. Where you goi...</td>\n",
       "    </tr>\n",
       "    <tr>\n",
       "      <th>24</th>\n",
       "      <td>You move funny I move out the way</td>\n",
       "    </tr>\n",
       "    <tr>\n",
       "      <th>29</th>\n",
       "      <td>You move funny I move out the way</td>\n",
       "    </tr>\n",
       "    <tr>\n",
       "      <th>44</th>\n",
       "      <td>\"What I desperately, desperately need is for ...</td>\n",
       "    </tr>\n",
       "  </tbody>\n",
       "</table>\n",
       "</div>"
      ],
      "text/plain": [
       "                                                 text\n",
       "18   this post is so fucking funny https://t.co/Rm...\n",
       "20   I’m just finding this so funny. Where you goi...\n",
       "24                  You move funny I move out the way\n",
       "29                  You move funny I move out the way\n",
       "44   \"What I desperately, desperately need is for ..."
      ]
     },
     "execution_count": 79,
     "metadata": {},
     "output_type": "execute_result"
    }
   ],
   "source": [
    "high_success_txt.head()"
   ]
  },
  {
   "cell_type": "code",
   "execution_count": 83,
   "id": "46446789-0281-4fcb-9b79-305ed1e1e167",
   "metadata": {},
   "outputs": [],
   "source": [
    "high_success_txt.to_csv(r'high_success.csv', header=None, index=None, sep='\\t', mode='a')"
   ]
  },
  {
   "cell_type": "code",
   "execution_count": 81,
   "id": "f9c9fe37-680d-4d1e-9cbc-f8bb9739c426",
   "metadata": {},
   "outputs": [],
   "source": [
    "low_success_txt = high_success.drop(high_success.columns[[1,2]], axis=1) "
   ]
  },
  {
   "cell_type": "code",
   "execution_count": 84,
   "id": "a0ff2a06-44ca-4dd3-a977-fd38ce4c7a2b",
   "metadata": {},
   "outputs": [],
   "source": [
    "low_success_txt.to_csv(r'low_success.csv', header=None, index=None, sep='\\t', mode='a')"
   ]
  },
  {
   "cell_type": "code",
   "execution_count": null,
   "id": "75dd07ca-63a6-49fb-80f5-1ebc881116de",
   "metadata": {},
   "outputs": [],
   "source": []
  }
 ],
 "metadata": {
  "interpreter": {
   "hash": "0bcc94e78baa13f8d856fe713d053b2638697cafa20df097d24bc2291143e6ce"
  },
  "kernelspec": {
   "display_name": "mlenv",
   "language": "python",
   "name": "python3"
  },
  "language_info": {
   "codemirror_mode": {
    "name": "ipython",
    "version": 3
   },
   "file_extension": ".py",
   "mimetype": "text/x-python",
   "name": "python",
   "nbconvert_exporter": "python",
   "pygments_lexer": "ipython3",
   "version": "3.10.0"
  }
 },
 "nbformat": 4,
 "nbformat_minor": 5
}
